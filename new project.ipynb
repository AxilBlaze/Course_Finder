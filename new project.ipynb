{
 "cells": [
  {
   "cell_type": "code",
   "execution_count": 2,
   "id": "8ca9f01e-73ba-4c91-998f-d674eb5436e2",
   "metadata": {},
   "outputs": [
    {
     "name": "stdin",
     "output_type": "stream",
     "text": [
      "Enter the level needed (e.g., Beginner, Intermediate, Advanced):  Beginner\n",
      "Enter the number of hours available for study:  20\n",
      "Enter keywords (separated by commas if multiple):  Arts and Humanities\n"
     ]
    },
    {
     "name": "stdout",
     "output_type": "stream",
     "text": [
      "No courses found matching your criteria.\n"
     ]
    }
   ],
   "source": [
    "import pandas as pd\n",
    "from sklearn.feature_extraction.text import CountVectorizer\n",
    "from sklearn.metrics.pairwise import cosine_similarity\n",
    "from sklearn.decomposition import TruncatedSVD\n",
    "\n",
    "# Step 1: Read CSV File\n",
    "df = pd.read_csv(\"new.csv\")\n",
    "\n",
    "# Step 2: Select Features\n",
    "features = [\"Course Title\", \"Rating\", \"Level\", \"Duration to complete (Approx.)\", \"Keyword\"]\n",
    "\n",
    "# Step 3: Create a column in DF which combines all selected features\n",
    "for feature in features:\n",
    "    df[feature] = df[feature].fillna('')\n",
    "\n",
    "def combine_features(row):\n",
    "    try:\n",
    "        return row['Course Title'] + \" \" + row['Level'] + \" \" + row['Keyword']\n",
    "    except Exception as e:\n",
    "        print(\"Error:\", e)\n",
    "\n",
    "df[\"combined_features\"] = df.apply(combine_features, axis=1)\n",
    "\n",
    "# Step 4: Create count matrix from this new combined column\n",
    "cv = CountVectorizer()\n",
    "count_matrix = cv.fit_transform(df[\"combined_features\"])\n",
    "\n",
    "# Step 5: Compute the Cosine Similarity based on the count_matrix\n",
    "cosine_sim = cosine_similarity(count_matrix)\n",
    "\n",
    "# Step 6: Apply Singular Value Decomposition (SVD) for collaborative filtering\n",
    "svd = TruncatedSVD(n_components=50, random_state=42)\n",
    "svd.fit(count_matrix)\n",
    "\n",
    "# Step 7: Transform the count matrix into a reduced latent space\n",
    "count_matrix_reduced = svd.transform(count_matrix)\n",
    "\n",
    "# Step 8: Get user input\n",
    "level_needed = input(\"Enter the level needed (e.g., Beginner, Intermediate, Advanced): \")\n",
    "hours_available = int(input(\"Enter the number of hours available for study: \"))\n",
    "keywords = input(\"Enter keywords (separated by commas if multiple): \").split(',')\n",
    "\n",
    "# Step 9: Filter courses based on user input\n",
    "filtered_indices = []\n",
    "for i, row in df.iterrows():\n",
    "    if row['Level'] == level_needed and row['Duration to complete (Approx.)'] <= hours_available and all(keyword in row['Keyword'] for keyword in keywords):\n",
    "        filtered_indices.append(i)\n",
    "\n",
    "# Step 10: Recommend courses based on filtered indices\n",
    "if len(filtered_indices) == 0:\n",
    "    print(\"No courses found matching your criteria.\")\n",
    "else:\n",
    "    print(\"Courses matching your criteria:\")\n",
    "    for idx in filtered_indices:\n",
    "        print(df.loc[idx]['Course Title'], \"with rating:\", df.loc[idx]['Rating'])\n"
   ]
  },
  {
   "cell_type": "code",
   "execution_count": null,
   "id": "ae28301a-8254-494a-927e-8e5e0363fa9a",
   "metadata": {},
   "outputs": [],
   "source": []
  }
 ],
 "metadata": {
  "kernelspec": {
   "display_name": "Python 3 (ipykernel)",
   "language": "python",
   "name": "python3"
  },
  "language_info": {
   "codemirror_mode": {
    "name": "ipython",
    "version": 3
   },
   "file_extension": ".py",
   "mimetype": "text/x-python",
   "name": "python",
   "nbconvert_exporter": "python",
   "pygments_lexer": "ipython3",
   "version": "3.11.7"
  }
 },
 "nbformat": 4,
 "nbformat_minor": 5
}
