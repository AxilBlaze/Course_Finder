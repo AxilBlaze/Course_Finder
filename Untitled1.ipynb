{
 "cells": [
  {
   "cell_type": "code",
   "execution_count": 4,
   "id": "a58ff0c5",
   "metadata": {},
   "outputs": [],
   "source": [
    "import csv\n",
    "\n",
    "def read_csv(filename, columns, encoding='utf-8'):\n",
    "    data = []\n",
    "    with open(filename, 'r', encoding=encoding) as file:\n",
    "        reader = csv.DictReader(file)\n",
    "        for row in reader:\n",
    "            row_data = [row[col] for col in columns]\n",
    "            data.append(row_data)\n",
    "    return data\n",
    "# Function to write array to a text file\n",
    "# Function to write array to a text file\n",
    "def write_to_text(data, filename, encoding='utf-8', errors='replace'):\n",
    "    with open(filename, 'w', encoding=encoding, errors=errors) as file:\n",
    "        file.write('[')\n",
    "        for i, row in enumerate(data):\n",
    "            if i > 0:\n",
    "                file.write(', ')\n",
    "            formatted_row = ['\"' + str(col) + '\"' for col in row]\n",
    "            file.write('[' + ','.join(formatted_row) + ']')\n",
    "        file.write(']')\n",
    "\n",
    "\n",
    "# Example usage\n",
    "csv_filename = 'new.csv'\n",
    "output_filename = 'final.txt'\n",
    "selected_columns = ['Course Title', 'Course Url', 'Rating', 'Instructor', 'Offered By', 'Number of Review', ]  # Specify the columns you want to extract\n",
    "# Read CSV file and extract particular columns\n",
    "data = read_csv(csv_filename, selected_columns, encoding='utf-8')\n",
    "\n",
    "# Write the extracted data to a text file\n",
    "write_to_text(data, output_filename, encoding='utf-8', errors='replace')\n",
    "\n"
   ]
  },
  {
   "cell_type": "code",
   "execution_count": null,
   "id": "e0d9494f",
   "metadata": {},
   "outputs": [],
   "source": []
  }
 ],
 "metadata": {
  "kernelspec": {
   "display_name": "Python 3 (ipykernel)",
   "language": "python",
   "name": "python3"
  },
  "language_info": {
   "codemirror_mode": {
    "name": "ipython",
    "version": 3
   },
   "file_extension": ".py",
   "mimetype": "text/x-python",
   "name": "python",
   "nbconvert_exporter": "python",
   "pygments_lexer": "ipython3",
   "version": "3.11.7"
  }
 },
 "nbformat": 4,
 "nbformat_minor": 5
}
