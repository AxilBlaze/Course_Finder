{
 "cells": [
  {
   "cell_type": "code",
   "execution_count": 1,
   "id": "8195c477-52f0-468f-8bf5-fe9155157bd4",
   "metadata": {},
   "outputs": [
    {
     "name": "stdout",
     "output_type": "stream",
     "text": [
      "Enter the level needed (e.g., Beginner, Intermediate, Advanced): Beginner Level\n",
      "Enter the number of hours available for study: 20\n",
      "Enter keywords (separated by commas if multiple): Arts and Humanities\n",
      "\n",
      "User Input:\n",
      "Level Needed: beginner level\n",
      "Hours Available: 20\n",
      "Keywords: ['arts and humanities']\n",
      "\n",
      "Top 5 Recommended Courses:\n",
      "Course Title: At the Origins of the Mediterranean Civilization: Archaeology of the City from the Levant to the West - 3rd-1st millennium BC\n",
      "URL: https://www.coursera.org/learn/archaeology-city-levant-west\n",
      "Course Title: The History of Modern Israel - Part I: From an Idea to a State\n",
      "URL: https://www.coursera.org/learn/history-israel\n",
      "Course Title: The Epistemic Quest for Truth: Introduction to epistemology\n",
      "URL: https://www.coursera.org/learn/epistemology\n",
      "Course Title: The Modern World, Part One: Global History from 1760 to 1910\n",
      "URL: https://www.coursera.org/learn/modern-world\n",
      "Course Title: The Changing Landscape of Ancient Rome. Archaeology and History of the Palatine Hill\n",
      "URL: https://www.coursera.org/learn/palatine-hill-archaeology-history\n"
     ]
    }
   ],
   "source": [
    "import pandas as pd\n",
    "from sklearn.feature_extraction.text import CountVectorizer\n",
    "from sklearn.decomposition import TruncatedSVD\n",
    "\n",
    "def filter_courses_and_print_top_5(csv_file):\n",
    "    # Step 1: Read CSV File\n",
    "    df = pd.read_csv(csv_file)\n",
    "\n",
    "    # Step 2: Select Features\n",
    "    features = [\"Course Title\", \"Rating\", \"Level\", \"Duration to complete (Approx.)\", \"Keyword\"]\n",
    "\n",
    "    # Step 3: Create a column in DF which combines all selected features\n",
    "    for feature in features:\n",
    "        df[feature] = df[feature].fillna('')\n",
    "\n",
    "    def combine_features(row):\n",
    "        try:\n",
    "            return row['Course Title'] + \" \" + row['Level'] + \" \" + row['Keyword']\n",
    "        except Exception as e:\n",
    "            print(\"Error in combining features:\", e)\n",
    "            return ''\n",
    "\n",
    "    df[\"combined_features\"] = df.apply(combine_features, axis=1)\n",
    "\n",
    "    # Step 4: Apply Singular Value Decomposition (SVD)\n",
    "    cv = CountVectorizer()\n",
    "    count_matrix = cv.fit_transform(df[\"combined_features\"])\n",
    "\n",
    "    svd = TruncatedSVD(n_components=50, random_state=42)\n",
    "    count_matrix_reduced = svd.fit_transform(count_matrix)\n",
    "\n",
    "    # Step 5: Get user input\n",
    "    level_needed = input(\"Enter the level needed (e.g., Beginner, Intermediate, Advanced): \").strip().lower()\n",
    "    hours_available = int(input(\"Enter the number of hours available for study: \"))\n",
    "    keywords = [keyword.strip().lower() for keyword in input(\"Enter keywords (separated by commas if multiple): \").split(',')]\n",
    "\n",
    "    print(\"\\nUser Input:\")\n",
    "    print(\"Level Needed:\", level_needed)\n",
    "    print(\"Hours Available:\", hours_available)\n",
    "    print(\"Keywords:\", keywords)\n",
    "\n",
    "    # Step 6: Filter courses based on user input\n",
    "    filtered_indices = []\n",
    "    for i, row in df.iterrows():\n",
    "        if row['Level'].lower() == level_needed and float(row['Duration to complete (Approx.)']) <= hours_available and all(keyword.strip().lower() in row['Keyword'].lower() for keyword in keywords):\n",
    "            filtered_indices.append(i)\n",
    "\n",
    "    # Step 7: Recommend courses based on filtered indices using SVD\n",
    "    recommended_courses = {}\n",
    "    for idx in filtered_indices:\n",
    "        score = sum(count_matrix_reduced[idx])\n",
    "        recommended_courses[idx] = score\n",
    "\n",
    "    # Step 8: Sort recommended courses based on score and print top 5\n",
    "    recommended_courses = dict(sorted(recommended_courses.items(), key=lambda item: item[1], reverse=True)[:5])\n",
    "\n",
    "    print(\"\\nTop 5 Recommended Courses:\")\n",
    "    for idx, score in recommended_courses.items():\n",
    "        print(\"Course Title:\", df.loc[idx, 'Course Title'])\n",
    "        print(\"URL:\", df.loc[idx, 'Course Url'])\n",
    "\n",
    "# Call the function with the CSV file name as an argument\n",
    "filter_courses_and_print_top_5(\"new.csv\")\n"
   ]
  },
  {
   "cell_type": "code",
   "execution_count": null,
   "id": "986e97e4-1b3d-4b66-aad1-d0629355721b",
   "metadata": {},
   "outputs": [],
   "source": [
    "\n"
   ]
  }
 ],
 "metadata": {
  "kernelspec": {
   "display_name": "Python 3 (ipykernel)",
   "language": "python",
   "name": "python3"
  },
  "language_info": {
   "codemirror_mode": {
    "name": "ipython",
    "version": 3
   },
   "file_extension": ".py",
   "mimetype": "text/x-python",
   "name": "python",
   "nbconvert_exporter": "python",
   "pygments_lexer": "ipython3",
   "version": "3.11.7"
  }
 },
 "nbformat": 4,
 "nbformat_minor": 5
}
