{
 "cells": [
  {
   "cell_type": "code",
   "execution_count": 13,
   "id": "d63ff0e3-2ed9-4e8f-afb9-f81e24b3714b",
   "metadata": {},
   "outputs": [],
   "source": [
    "import pandas as pd\n",
    "import numpy as np\n",
    "import seaborn as sns\n",
    "import matplotlib.pyplot as plt \n",
    "%matplotlib inline \n",
    "import os"
   ]
  },
  {
   "cell_type": "code",
   "execution_count": 15,
   "id": "858ae48e-0d5e-438b-ac80-ac42d5acec9b",
   "metadata": {},
   "outputs": [
    {
     "data": {
      "text/html": [
       "<div>\n",
       "<style scoped>\n",
       "    .dataframe tbody tr th:only-of-type {\n",
       "        vertical-align: middle;\n",
       "    }\n",
       "\n",
       "    .dataframe tbody tr th {\n",
       "        vertical-align: top;\n",
       "    }\n",
       "\n",
       "    .dataframe thead th {\n",
       "        text-align: right;\n",
       "    }\n",
       "</style>\n",
       "<table border=\"1\" class=\"dataframe\">\n",
       "  <thead>\n",
       "    <tr style=\"text-align: right;\">\n",
       "      <th></th>\n",
       "      <th>Course Title</th>\n",
       "      <th>Rating</th>\n",
       "      <th>Level</th>\n",
       "      <th>Duration</th>\n",
       "      <th>Schedule</th>\n",
       "      <th>Review</th>\n",
       "      <th>What you will learn</th>\n",
       "      <th>Skill gain</th>\n",
       "      <th>Modules</th>\n",
       "      <th>Instructor</th>\n",
       "      <th>Offered By</th>\n",
       "      <th>Keyword</th>\n",
       "      <th>Course Url</th>\n",
       "    </tr>\n",
       "  </thead>\n",
       "  <tbody>\n",
       "    <tr>\n",
       "      <th>0</th>\n",
       "      <td>Fashion as Design</td>\n",
       "      <td>4.8</td>\n",
       "      <td>Beginner level</td>\n",
       "      <td>20 hours (approximately)</td>\n",
       "      <td>Flexible schedule</td>\n",
       "      <td>2,813 reviews</td>\n",
       "      <td>NaN</td>\n",
       "      <td>['Art History', 'Art', 'History', 'Creativity']</td>\n",
       "      <td>['Introduction', 'Heroes', 'Silhouettes', 'Cou...</td>\n",
       "      <td>['Anna Burckhardt', 'Paola Antonelli', 'Michel...</td>\n",
       "      <td>['The Museum of Modern Art']</td>\n",
       "      <td>Arts and Humanities</td>\n",
       "      <td>https://www.coursera.org/learn/fashion-design</td>\n",
       "    </tr>\n",
       "    <tr>\n",
       "      <th>1</th>\n",
       "      <td>Modern American Poetry</td>\n",
       "      <td>4.4</td>\n",
       "      <td>Beginner level</td>\n",
       "      <td>Approx. 34 hours to complete</td>\n",
       "      <td>Flexible schedule</td>\n",
       "      <td>100 reviews</td>\n",
       "      <td>NaN</td>\n",
       "      <td>[]</td>\n",
       "      <td>['Orientation', 'Module 1', 'Module 2', 'Modul...</td>\n",
       "      <td>['Cary Nelson']</td>\n",
       "      <td>['University of Illinois at Urbana-Champaign']</td>\n",
       "      <td>Arts and Humanities</td>\n",
       "      <td>https://www.coursera.org/learn/modern-american...</td>\n",
       "    </tr>\n",
       "    <tr>\n",
       "      <th>2</th>\n",
       "      <td>Pixel Art for Video Games</td>\n",
       "      <td>4.5</td>\n",
       "      <td>Beginner level</td>\n",
       "      <td>9 hours (approximately)</td>\n",
       "      <td>Flexible schedule</td>\n",
       "      <td>227 reviews</td>\n",
       "      <td>NaN</td>\n",
       "      <td>[]</td>\n",
       "      <td>['Week 1: Introduction to Pixel Art', 'Week 2:...</td>\n",
       "      <td>['Andrew Dennis', 'Ricardo Guimaraes']</td>\n",
       "      <td>['Michigan State University']</td>\n",
       "      <td>Arts and Humanities</td>\n",
       "      <td>https://www.coursera.org/learn/pixel-art-video...</td>\n",
       "    </tr>\n",
       "    <tr>\n",
       "      <th>3</th>\n",
       "      <td>Distribución digital de la música independiente</td>\n",
       "      <td>NaN</td>\n",
       "      <td>Beginner level</td>\n",
       "      <td>Approx. 8 hours to complete</td>\n",
       "      <td>Flexible schedule</td>\n",
       "      <td>NaN</td>\n",
       "      <td>NaN</td>\n",
       "      <td>[]</td>\n",
       "      <td>['Semana 1', 'Semana 2', 'Semana 3', 'Semana 4']</td>\n",
       "      <td>['Eduardo de la Vara Brown.']</td>\n",
       "      <td>['SAE Institute México']</td>\n",
       "      <td>Arts and Humanities</td>\n",
       "      <td>https://www.coursera.org/learn/distribucion-di...</td>\n",
       "    </tr>\n",
       "    <tr>\n",
       "      <th>4</th>\n",
       "      <td>The Blues: Understanding and Performing an Ame...</td>\n",
       "      <td>4.8</td>\n",
       "      <td>Beginner level</td>\n",
       "      <td>Approx. 11 hours to complete</td>\n",
       "      <td>Flexible schedule</td>\n",
       "      <td>582 reviews</td>\n",
       "      <td>Students will be able to describe the blues as...</td>\n",
       "      <td>['Music', 'Chord', 'Jazz', 'Jazz Improvisation']</td>\n",
       "      <td>['Blues Progressions – Theory and Practice ', ...</td>\n",
       "      <td>['Dariusz Terefenko']</td>\n",
       "      <td>['University of Rochester']</td>\n",
       "      <td>Arts and Humanities</td>\n",
       "      <td>https://www.coursera.org/learn/the-blues</td>\n",
       "    </tr>\n",
       "  </tbody>\n",
       "</table>\n",
       "</div>"
      ],
      "text/plain": [
       "                                        Course Title  Rating           Level  \\\n",
       "0                                  Fashion as Design     4.8  Beginner level   \n",
       "1                             Modern American Poetry     4.4  Beginner level   \n",
       "2                          Pixel Art for Video Games     4.5  Beginner level   \n",
       "3    Distribución digital de la música independiente     NaN  Beginner level   \n",
       "4  The Blues: Understanding and Performing an Ame...     4.8  Beginner level   \n",
       "\n",
       "                       Duration           Schedule         Review  \\\n",
       "0      20 hours (approximately)  Flexible schedule  2,813 reviews   \n",
       "1  Approx. 34 hours to complete  Flexible schedule    100 reviews   \n",
       "2       9 hours (approximately)  Flexible schedule    227 reviews   \n",
       "3   Approx. 8 hours to complete  Flexible schedule            NaN   \n",
       "4  Approx. 11 hours to complete  Flexible schedule    582 reviews   \n",
       "\n",
       "                                 What you will learn  \\\n",
       "0                                                NaN   \n",
       "1                                                NaN   \n",
       "2                                                NaN   \n",
       "3                                                NaN   \n",
       "4  Students will be able to describe the blues as...   \n",
       "\n",
       "                                         Skill gain  \\\n",
       "0   ['Art History', 'Art', 'History', 'Creativity']   \n",
       "1                                                []   \n",
       "2                                                []   \n",
       "3                                                []   \n",
       "4  ['Music', 'Chord', 'Jazz', 'Jazz Improvisation']   \n",
       "\n",
       "                                             Modules  \\\n",
       "0  ['Introduction', 'Heroes', 'Silhouettes', 'Cou...   \n",
       "1  ['Orientation', 'Module 1', 'Module 2', 'Modul...   \n",
       "2  ['Week 1: Introduction to Pixel Art', 'Week 2:...   \n",
       "3   ['Semana 1', 'Semana 2', 'Semana 3', 'Semana 4']   \n",
       "4  ['Blues Progressions – Theory and Practice ', ...   \n",
       "\n",
       "                                          Instructor  \\\n",
       "0  ['Anna Burckhardt', 'Paola Antonelli', 'Michel...   \n",
       "1                                    ['Cary Nelson']   \n",
       "2             ['Andrew Dennis', 'Ricardo Guimaraes']   \n",
       "3                      ['Eduardo de la Vara Brown.']   \n",
       "4                              ['Dariusz Terefenko']   \n",
       "\n",
       "                                       Offered By              Keyword  \\\n",
       "0                    ['The Museum of Modern Art']  Arts and Humanities   \n",
       "1  ['University of Illinois at Urbana-Champaign']  Arts and Humanities   \n",
       "2                   ['Michigan State University']  Arts and Humanities   \n",
       "3                        ['SAE Institute México']  Arts and Humanities   \n",
       "4                     ['University of Rochester']  Arts and Humanities   \n",
       "\n",
       "                                          Course Url  \n",
       "0      https://www.coursera.org/learn/fashion-design  \n",
       "1  https://www.coursera.org/learn/modern-american...  \n",
       "2  https://www.coursera.org/learn/pixel-art-video...  \n",
       "3  https://www.coursera.org/learn/distribucion-di...  \n",
       "4           https://www.coursera.org/learn/the-blues  "
      ]
     },
     "execution_count": 15,
     "metadata": {},
     "output_type": "execute_result"
    }
   ],
   "source": [
    "df = pd.read_csv('neww.csv')\n",
    "df.head()\n"
   ]
  },
  {
   "cell_type": "code",
   "execution_count": 16,
   "id": "7b3165b6-f6db-429e-9b6a-a72b8c486445",
   "metadata": {},
   "outputs": [
    {
     "data": {
      "text/plain": [
       "Index(['Course Title', 'Rating', 'Level', 'Duration', 'Schedule', 'Review',\n",
       "       'What you will learn', 'Skill gain', 'Modules', 'Instructor',\n",
       "       'Offered By', 'Keyword', 'Course Url'],\n",
       "      dtype='object')"
      ]
     },
     "execution_count": 16,
     "metadata": {},
     "output_type": "execute_result"
    }
   ],
   "source": [
    "df.columns"
   ]
  },
  {
   "cell_type": "code",
   "execution_count": 18,
   "id": "cdf9661f-1d46-4340-951c-fd2d2f99377c",
   "metadata": {},
   "outputs": [],
   "source": [
    "df.rename(columns = {'Course Title' : 'course_title', 'Rating' : 'rating', 'Level' : 'level', \n",
    "                     'Duration' : 'duration_in_hours', 'Schedule' : 'schedule', 'Review' : 'review',\n",
    "                     'What you will learn' : 'what_you_will_learn', 'Skill gain' : 'skill_gain', 'Modules' : 'modules', \n",
    "                     'Instructor' : 'instructor','Offered By' : 'offered_by', 'Keyword' : 'keyword', 'Course Url': 'course_url'}, inplace=True)"
   ]
  },
  {
   "cell_type": "code",
   "execution_count": 19,
   "id": "51bc3816-503d-4d29-abc3-03185b9cd43f",
   "metadata": {},
   "outputs": [
    {
     "data": {
      "text/plain": [
       "Index(['course_title', 'rating', 'level', 'duration_in_hours', 'schedule',\n",
       "       'review', 'what_you_will_learn', 'skill_gain', 'modules', 'instructor',\n",
       "       'offered_by', 'keyword', 'course_url'],\n",
       "      dtype='object')"
      ]
     },
     "execution_count": 19,
     "metadata": {},
     "output_type": "execute_result"
    }
   ],
   "source": [
    "df.columns"
   ]
  },
  {
   "cell_type": "code",
   "execution_count": 20,
   "id": "5431fef0-1f23-4056-b238-0ef5ba6ef103",
   "metadata": {},
   "outputs": [
    {
     "name": "stdout",
     "output_type": "stream",
     "text": [
      "<class 'pandas.core.frame.DataFrame'>\n",
      "RangeIndex: 9595 entries, 0 to 9594\n",
      "Data columns (total 13 columns):\n",
      " #   Column               Non-Null Count  Dtype  \n",
      "---  ------               --------------  -----  \n",
      " 0   course_title         9595 non-null   object \n",
      " 1   rating               8156 non-null   float64\n",
      " 2   level                8330 non-null   object \n",
      " 3   duration_in_hours    9333 non-null   object \n",
      " 4   schedule             8912 non-null   object \n",
      " 5   review               8152 non-null   object \n",
      " 6   what_you_will_learn  4984 non-null   object \n",
      " 7   skill_gain           9595 non-null   object \n",
      " 8   modules              9595 non-null   object \n",
      " 9   instructor           9595 non-null   object \n",
      " 10  offered_by           9595 non-null   object \n",
      " 11  keyword              9595 non-null   object \n",
      " 12  course_url           9595 non-null   object \n",
      "dtypes: float64(1), object(12)\n",
      "memory usage: 974.6+ KB\n"
     ]
    }
   ],
   "source": [
    "df.info()"
   ]
  },
  {
   "cell_type": "code",
   "execution_count": 21,
   "id": "108bc240-a14b-4144-925e-8801ab9c6522",
   "metadata": {},
   "outputs": [
    {
     "data": {
      "text/plain": [
       "900"
      ]
     },
     "execution_count": 21,
     "metadata": {},
     "output_type": "execute_result"
    }
   ],
   "source": [
    "df.duplicated().sum()"
   ]
  },
  {
   "cell_type": "code",
   "execution_count": 22,
   "id": "52f7a069-210f-4ab0-8cfa-75b404effee2",
   "metadata": {},
   "outputs": [],
   "source": [
    "df.drop_duplicates(inplace = True)"
   ]
  },
  {
   "cell_type": "code",
   "execution_count": 23,
   "id": "86caba19-9913-4254-88ac-6f1e4cbbb111",
   "metadata": {},
   "outputs": [
    {
     "data": {
      "text/plain": [
       "0"
      ]
     },
     "execution_count": 23,
     "metadata": {},
     "output_type": "execute_result"
    }
   ],
   "source": [
    "df.duplicated().sum()"
   ]
  },
  {
   "cell_type": "code",
   "execution_count": 24,
   "id": "a07ccacf-0ce9-4766-95ac-3a6fd6c67cea",
   "metadata": {},
   "outputs": [
    {
     "data": {
      "text/plain": [
       "course_title              0\n",
       "rating                 1349\n",
       "level                  1106\n",
       "duration_in_hours       241\n",
       "schedule                641\n",
       "review                 1352\n",
       "what_you_will_learn    4110\n",
       "skill_gain                0\n",
       "modules                   0\n",
       "instructor                0\n",
       "offered_by                0\n",
       "keyword                   0\n",
       "course_url                0\n",
       "dtype: int64"
      ]
     },
     "execution_count": 24,
     "metadata": {},
     "output_type": "execute_result"
    }
   ],
   "source": [
    "df.isnull().sum()"
   ]
  },
  {
   "cell_type": "code",
   "execution_count": null,
   "id": "36b2bbef-8aab-47d4-a04b-d1e0e5f8da06",
   "metadata": {},
   "outputs": [],
   "source": []
  }
 ],
 "metadata": {
  "kernelspec": {
   "display_name": "Python 3 (ipykernel)",
   "language": "python",
   "name": "python3"
  },
  "language_info": {
   "codemirror_mode": {
    "name": "ipython",
    "version": 3
   },
   "file_extension": ".py",
   "mimetype": "text/x-python",
   "name": "python",
   "nbconvert_exporter": "python",
   "pygments_lexer": "ipython3",
   "version": "3.11.7"
  }
 },
 "nbformat": 4,
 "nbformat_minor": 5
}
